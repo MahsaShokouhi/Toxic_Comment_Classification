{
 "cells": [
  {
   "cell_type": "markdown",
   "metadata": {},
   "source": [
    "# Toxic Comment Classification"
   ]
  },
  {
   "cell_type": "code",
   "execution_count": 1,
   "metadata": {},
   "outputs": [],
   "source": [
    "'''\n",
    "This script detects toxic comments using a multi-label classification model. \n",
    "Several models were built and evaluated, the best models were used for determining\n",
    "whether or not a comment is considered toxic. \n",
    "'''\n",
    "__author__ = \"Mahsa Shokouhi\"\n",
    "__email__ = \"mahsa_shokouhi@yahoo.com\""
   ]
  },
  {
   "cell_type": "markdown",
   "metadata": {},
   "source": [
    "# Import Packages"
   ]
  },
  {
   "cell_type": "code",
   "execution_count": null,
   "metadata": {},
   "outputs": [],
   "source": [
    "import warnings\n",
    "warnings.filterwarnings('ignore')\n",
    "\n",
    "import pandas as pd\n",
    "import numpy as np\n",
    "import matplotlib.pyplot as plt\n",
    "import seaborn as sns\n",
    "\n",
    "from sklearn.feature_extraction.text import TfidfVectorizer\n",
    "from sklearn.metrics import (accuracy_score, roc_auc_score, f1_score, hamming_loss,\n",
    "                             classification_report, multilabel_confusion_matrix)\n",
    "\n",
    "from sklearn.linear_model import LogisticRegression\n",
    "from sklearn.ensemble import RandomForestClassifier\n",
    "from sklearn.multioutput import ClassifierChain\n",
    "from sklearn.dummy import DummyClassifier\n",
    "from sklearn.compose import ColumnTransformer\n",
    "\n",
    "from skmultilearn.model_selection import IterativeStratification\n",
    "\n",
    "from lightgbm import LGBMClassifier\n",
    "\n",
    "import nltk\n",
    "from nltk.sentiment.vader import SentimentIntensityAnalyzer\n",
    "nltk.download('vader_lexicon')\n",
    "\n",
    "\n",
    "pd.set_option('precision', 6)\n",
    "%matplotlib inline"
   ]
  },
  {
   "cell_type": "markdown",
   "metadata": {},
   "source": [
    "# Define Functions"
   ]
  },
  {
   "cell_type": "code",
   "execution_count": 3,
   "metadata": {},
   "outputs": [],
   "source": [
    "def stratified_split (X, Y, test_size):\n",
    "    '''Stratified train-test split given specified test_size'''\n",
    "    stratifier = IterativeStratification(n_splits=2, order=2,\n",
    "                                         sample_distribution_per_fold=[test_size, \n",
    "                                                                       1-test_size])\n",
    "    train_indexes, test_indexes = next(stratifier.split(X, Y))\n",
    "    X_train, Y_train = X[train_indexes], Y.iloc[train_indexes, :]\n",
    "    X_test, Y_test = X[test_indexes], Y.iloc[test_indexes, :]\n",
    "    return X_train, X_test, Y_train, Y_test\n",
    "\n",
    "\n",
    "\n",
    "def evaluate_model(model, X_train, Y_train, n_folds=3):\n",
    "    '''Evaluate a model using stratified k-fold cross-validation.\n",
    "    prints out mean accuracy, mean hamming loss, and mean f1-score across folds'''\n",
    "    acc_train = []\n",
    "    acc_test = []\n",
    "    loss_train = []\n",
    "    loss_test = []\n",
    "    f1_train = []\n",
    "    f1_test =[]\n",
    "\n",
    "    k_fold = IterativeStratification(n_splits=n_folds, order=2)\n",
    "\n",
    "    for tr_index, ts_index in k_fold.split(X_train, Y_train):\n",
    "        model.fit(X_train[tr_index], Y_train.iloc[tr_index])\n",
    "        pred_train = model.predict(X_train[tr_index])\n",
    "        pred_test = model.predict(X_train[ts_index])\n",
    "        acc_train.append(accuracy_score(Y_train.iloc[tr_index], pred_train))\n",
    "        acc_test.append(accuracy_score(Y_train.iloc[ts_index], pred_test))\n",
    "        loss_train.append(hamming_loss(Y_train.iloc[tr_index], pred_train))\n",
    "        loss_test.append(hamming_loss(Y_train.iloc[ts_index], pred_test))\n",
    "        f1_train.append(f1_score(Y_train.iloc[tr_index], pred_train, average='micro'))\n",
    "        f1_test.append(f1_score(Y_train.iloc[ts_index], pred_test, average='micro'))\n",
    "\n",
    "    print('Train set:\\n')\n",
    "    print(f'Mean accuracy score: {np.mean(acc_train)}, \\n'\n",
    "          f'Mean loss: {np.mean(loss_train)}, \\n'\n",
    "          f'Mean F1-score:{np.mean(f1_train)}')\n",
    "    print('\\nTest set:\\n')\n",
    "    print(f'Mean accuracy score: {np.mean(acc_test)}, \\n'\n",
    "          f'Mean loss: {np.mean(loss_test)}, \\n'\n",
    "          f'Mean F1-score:{np.mean(f1_test)}')\n",
    "\n",
    "\n",
    "\n",
    "def confusion_matrix_df(model, X_test, Y_test):\n",
    "    '''Create a dataframe of the confusion matrix.'''\n",
    "    labels = Y_test.columns\n",
    "    Y_pred = model.predict(X_test)\n",
    "    cm = multilabel_confusion_matrix(Y_test, Y_pred)\n",
    "    cm_percent = cm * 100 / X_test.shape[0]\n",
    "    df = pd.DataFrame(cm_percent.reshape(len(labels), -1), index=list(labels))\n",
    "    df.columns = ['TN', 'FP', 'FN', 'TP']\n",
    "    df = df.style.format('{:.1f}')\n",
    "    return df"
   ]
  },
  {
   "cell_type": "markdown",
   "metadata": {},
   "source": [
    "# Load Data\n",
    "\n",
    "## Train set"
   ]
  },
  {
   "cell_type": "code",
   "execution_count": 5,
   "metadata": {},
   "outputs": [
    {
     "name": "stdout",
     "output_type": "stream",
     "text": [
      "(159571, 8)\n"
     ]
    },
    {
     "data": {
      "text/html": [
       "<div>\n",
       "<style scoped>\n",
       "    .dataframe tbody tr th:only-of-type {\n",
       "        vertical-align: middle;\n",
       "    }\n",
       "\n",
       "    .dataframe tbody tr th {\n",
       "        vertical-align: top;\n",
       "    }\n",
       "\n",
       "    .dataframe thead th {\n",
       "        text-align: right;\n",
       "    }\n",
       "</style>\n",
       "<table border=\"1\" class=\"dataframe\">\n",
       "  <thead>\n",
       "    <tr style=\"text-align: right;\">\n",
       "      <th></th>\n",
       "      <th>id</th>\n",
       "      <th>comment_text</th>\n",
       "      <th>toxic</th>\n",
       "      <th>severe_toxic</th>\n",
       "      <th>obscene</th>\n",
       "      <th>threat</th>\n",
       "      <th>insult</th>\n",
       "      <th>identity_hate</th>\n",
       "    </tr>\n",
       "  </thead>\n",
       "  <tbody>\n",
       "    <tr>\n",
       "      <th>0</th>\n",
       "      <td>0000997932d777bf</td>\n",
       "      <td>Explanation\\nWhy the edits made under my usern...</td>\n",
       "      <td>0</td>\n",
       "      <td>0</td>\n",
       "      <td>0</td>\n",
       "      <td>0</td>\n",
       "      <td>0</td>\n",
       "      <td>0</td>\n",
       "    </tr>\n",
       "    <tr>\n",
       "      <th>1</th>\n",
       "      <td>000103f0d9cfb60f</td>\n",
       "      <td>D'aww! He matches this background colour I'm s...</td>\n",
       "      <td>0</td>\n",
       "      <td>0</td>\n",
       "      <td>0</td>\n",
       "      <td>0</td>\n",
       "      <td>0</td>\n",
       "      <td>0</td>\n",
       "    </tr>\n",
       "    <tr>\n",
       "      <th>2</th>\n",
       "      <td>000113f07ec002fd</td>\n",
       "      <td>Hey man, I'm really not trying to edit war. It...</td>\n",
       "      <td>0</td>\n",
       "      <td>0</td>\n",
       "      <td>0</td>\n",
       "      <td>0</td>\n",
       "      <td>0</td>\n",
       "      <td>0</td>\n",
       "    </tr>\n",
       "    <tr>\n",
       "      <th>3</th>\n",
       "      <td>0001b41b1c6bb37e</td>\n",
       "      <td>\"\\nMore\\nI can't make any real suggestions on ...</td>\n",
       "      <td>0</td>\n",
       "      <td>0</td>\n",
       "      <td>0</td>\n",
       "      <td>0</td>\n",
       "      <td>0</td>\n",
       "      <td>0</td>\n",
       "    </tr>\n",
       "    <tr>\n",
       "      <th>4</th>\n",
       "      <td>0001d958c54c6e35</td>\n",
       "      <td>You, sir, are my hero. Any chance you remember...</td>\n",
       "      <td>0</td>\n",
       "      <td>0</td>\n",
       "      <td>0</td>\n",
       "      <td>0</td>\n",
       "      <td>0</td>\n",
       "      <td>0</td>\n",
       "    </tr>\n",
       "  </tbody>\n",
       "</table>\n",
       "</div>"
      ],
      "text/plain": [
       "                 id                                       comment_text  toxic  \\\n",
       "0  0000997932d777bf  Explanation\\nWhy the edits made under my usern...      0   \n",
       "1  000103f0d9cfb60f  D'aww! He matches this background colour I'm s...      0   \n",
       "2  000113f07ec002fd  Hey man, I'm really not trying to edit war. It...      0   \n",
       "3  0001b41b1c6bb37e  \"\\nMore\\nI can't make any real suggestions on ...      0   \n",
       "4  0001d958c54c6e35  You, sir, are my hero. Any chance you remember...      0   \n",
       "\n",
       "   severe_toxic  obscene  threat  insult  identity_hate  \n",
       "0             0        0       0       0              0  \n",
       "1             0        0       0       0              0  \n",
       "2             0        0       0       0              0  \n",
       "3             0        0       0       0              0  \n",
       "4             0        0       0       0              0  "
      ]
     },
     "execution_count": 5,
     "metadata": {},
     "output_type": "execute_result"
    }
   ],
   "source": [
    "train = pd.read_csv('Data/train.csv')\n",
    "print(train.shape)\n",
    "train.head()"
   ]
  },
  {
   "cell_type": "code",
   "execution_count": 6,
   "metadata": {},
   "outputs": [
    {
     "data": {
      "text/plain": [
       "id               0\n",
       "comment_text     0\n",
       "toxic            0\n",
       "severe_toxic     0\n",
       "obscene          0\n",
       "threat           0\n",
       "insult           0\n",
       "identity_hate    0\n",
       "dtype: int64"
      ]
     },
     "execution_count": 6,
     "metadata": {},
     "output_type": "execute_result"
    }
   ],
   "source": [
    "# Check for missing values\n",
    "train.isnull().sum()"
   ]
  },
  {
   "cell_type": "markdown",
   "metadata": {},
   "source": [
    "## Test set"
   ]
  },
  {
   "cell_type": "code",
   "execution_count": 7,
   "metadata": {},
   "outputs": [
    {
     "name": "stdout",
     "output_type": "stream",
     "text": [
      "(153164, 8)\n"
     ]
    },
    {
     "data": {
      "text/html": [
       "<div>\n",
       "<style scoped>\n",
       "    .dataframe tbody tr th:only-of-type {\n",
       "        vertical-align: middle;\n",
       "    }\n",
       "\n",
       "    .dataframe tbody tr th {\n",
       "        vertical-align: top;\n",
       "    }\n",
       "\n",
       "    .dataframe thead th {\n",
       "        text-align: right;\n",
       "    }\n",
       "</style>\n",
       "<table border=\"1\" class=\"dataframe\">\n",
       "  <thead>\n",
       "    <tr style=\"text-align: right;\">\n",
       "      <th></th>\n",
       "      <th>id</th>\n",
       "      <th>comment_text</th>\n",
       "      <th>toxic</th>\n",
       "      <th>severe_toxic</th>\n",
       "      <th>obscene</th>\n",
       "      <th>threat</th>\n",
       "      <th>insult</th>\n",
       "      <th>identity_hate</th>\n",
       "    </tr>\n",
       "  </thead>\n",
       "  <tbody>\n",
       "    <tr>\n",
       "      <th>0</th>\n",
       "      <td>00001cee341fdb12</td>\n",
       "      <td>Yo bitch Ja Rule is more succesful then you'll...</td>\n",
       "      <td>-1</td>\n",
       "      <td>-1</td>\n",
       "      <td>-1</td>\n",
       "      <td>-1</td>\n",
       "      <td>-1</td>\n",
       "      <td>-1</td>\n",
       "    </tr>\n",
       "    <tr>\n",
       "      <th>1</th>\n",
       "      <td>0000247867823ef7</td>\n",
       "      <td>== From RfC == \\n\\n The title is fine as it is...</td>\n",
       "      <td>-1</td>\n",
       "      <td>-1</td>\n",
       "      <td>-1</td>\n",
       "      <td>-1</td>\n",
       "      <td>-1</td>\n",
       "      <td>-1</td>\n",
       "    </tr>\n",
       "    <tr>\n",
       "      <th>2</th>\n",
       "      <td>00013b17ad220c46</td>\n",
       "      <td>\" \\n\\n == Sources == \\n\\n * Zawe Ashton on Lap...</td>\n",
       "      <td>-1</td>\n",
       "      <td>-1</td>\n",
       "      <td>-1</td>\n",
       "      <td>-1</td>\n",
       "      <td>-1</td>\n",
       "      <td>-1</td>\n",
       "    </tr>\n",
       "    <tr>\n",
       "      <th>3</th>\n",
       "      <td>00017563c3f7919a</td>\n",
       "      <td>:If you have a look back at the source, the in...</td>\n",
       "      <td>-1</td>\n",
       "      <td>-1</td>\n",
       "      <td>-1</td>\n",
       "      <td>-1</td>\n",
       "      <td>-1</td>\n",
       "      <td>-1</td>\n",
       "    </tr>\n",
       "    <tr>\n",
       "      <th>4</th>\n",
       "      <td>00017695ad8997eb</td>\n",
       "      <td>I don't anonymously edit articles at all.</td>\n",
       "      <td>-1</td>\n",
       "      <td>-1</td>\n",
       "      <td>-1</td>\n",
       "      <td>-1</td>\n",
       "      <td>-1</td>\n",
       "      <td>-1</td>\n",
       "    </tr>\n",
       "  </tbody>\n",
       "</table>\n",
       "</div>"
      ],
      "text/plain": [
       "                 id                                       comment_text  toxic  \\\n",
       "0  00001cee341fdb12  Yo bitch Ja Rule is more succesful then you'll...     -1   \n",
       "1  0000247867823ef7  == From RfC == \\n\\n The title is fine as it is...     -1   \n",
       "2  00013b17ad220c46  \" \\n\\n == Sources == \\n\\n * Zawe Ashton on Lap...     -1   \n",
       "3  00017563c3f7919a  :If you have a look back at the source, the in...     -1   \n",
       "4  00017695ad8997eb          I don't anonymously edit articles at all.     -1   \n",
       "\n",
       "   severe_toxic  obscene  threat  insult  identity_hate  \n",
       "0            -1       -1      -1      -1             -1  \n",
       "1            -1       -1      -1      -1             -1  \n",
       "2            -1       -1      -1      -1             -1  \n",
       "3            -1       -1      -1      -1             -1  \n",
       "4            -1       -1      -1      -1             -1  "
      ]
     },
     "execution_count": 7,
     "metadata": {},
     "output_type": "execute_result"
    }
   ],
   "source": [
    "test = pd.read_csv('Data/test.csv')\n",
    "test_labels = pd.read_csv('Data/test_labels.csv')\n",
    "\n",
    "# Merge the two sets\n",
    "test = pd.merge(test, test_labels, how='left', on='id')\n",
    "print(test.shape)\n",
    "test.head()"
   ]
  },
  {
   "cell_type": "code",
   "execution_count": 8,
   "metadata": {},
   "outputs": [],
   "source": [
    "train = train.drop('id', axis=1)\n",
    "test = test.drop('id', axis=1)"
   ]
  },
  {
   "cell_type": "code",
   "execution_count": 9,
   "metadata": {},
   "outputs": [
    {
     "name": "stdout",
     "output_type": "stream",
     "text": [
      "(63978, 7)\n"
     ]
    }
   ],
   "source": [
    "# Remove unlabelled rows from the test set (label=-1)\n",
    "is_labelled = test.drop('comment_text', axis=1) != -1\n",
    "test = test[is_labelled.all(axis='columns')]\n",
    "print(test.shape)"
   ]
  },
  {
   "cell_type": "markdown",
   "metadata": {},
   "source": [
    "# Exploratory Data Analysis"
   ]
  },
  {
   "cell_type": "code",
   "execution_count": 10,
   "metadata": {},
   "outputs": [
    {
     "name": "stdout",
     "output_type": "stream",
     "text": [
      "toxic            15294\n",
      "severe_toxic      1595\n",
      "obscene           8449\n",
      "threat             478\n",
      "insult            7877\n",
      "identity_hate     1405\n",
      "dtype: int64\n",
      "There are 143346 non-toxic and 16225 toxic comments\n"
     ]
    }
   ],
   "source": [
    "# Number of positive samples for each label (toxic types)\n",
    "print(train.drop('comment_text', axis=1).sum())\n",
    "\n",
    "# Total number of rows with and without any type of toxic comments\n",
    "n_nonToxic = train[train.drop('comment_text', axis=1).sum(axis=1) == 0].shape[0]\n",
    "n_toxic = train.shape[0] - n_nonToxic\n",
    "print(f'There are {n_nonToxic} non-toxic and {n_toxic} toxic comments')"
   ]
  },
  {
   "cell_type": "code",
   "execution_count": 11,
   "metadata": {},
   "outputs": [
    {
     "data": {
      "image/png": "[encoded data removed]",
      "text/plain": [
       "<Figure size 1008x864 with 2 Axes>"
      ]
     },
     "metadata": {},
     "output_type": "display_data"
    }
   ],
   "source": [
    "# Check correlation between toxic subgroups\n",
    "labels = train.drop('comment_text', axis=1).columns\n",
    "\n",
    "sns.set(font_scale=1.3)\n",
    "plt.figure(figsize=(14, 12))\n",
    "sns.heatmap(train.drop('comment_text', axis=1).corr(), \n",
    "            xticklabels=labels, \n",
    "            yticklabels=labels, \n",
    "            cmap=\"RdBu_r\", annot=True)\n",
    "plt.title('Correlation between toxic subgroups', fontsize=30)\n",
    "plt.show()"
   ]
  },
  {
   "cell_type": "code",
   "execution_count": 12,
   "metadata": {},
   "outputs": [
    {
     "data": {
      "image/png": "[encoded data removed]",
      "text/plain": [
       "<Figure size 1440x576 with 1 Axes>"
      ]
     },
     "metadata": {},
     "output_type": "display_data"
    }
   ],
   "source": [
    "# Compare percentage of labels in the train and test sets\n",
    "\n",
    "labels = train.drop('comment_text', axis=1).columns\n",
    "# Train set\n",
    "train_perentage = pd.DataFrame(\n",
    "    train.drop('comment_text', axis=1).value_counts(normalize=True, \n",
    "                                                    sort=False)).reset_index()\n",
    "train_perentage.columns = list(labels) + ['train_percentage']\n",
    "\n",
    "# Test set\n",
    "test_perentage = pd.DataFrame(\n",
    "    test.drop('comment_text', axis=1).value_counts(normalize=True, \n",
    "                                                   sort=False)).reset_index()\n",
    "test_perentage.columns = list(labels) + ['test_percentage']\n",
    "\n",
    "\n",
    "# Merge the tow sets\n",
    "labels_perentages = pd.merge(train_perentage, test_perentage, \n",
    "                             how='left', on=list(labels))\n",
    "\n",
    "labels_perentages.set_index(list(labels), inplace=True)\n",
    "\n",
    "# Plot labels frequencies (percentage) for train and test sets\n",
    "labels_perentages.plot(kind='bar', logy=True, figsize=(20, 8), fontsize=12)\n",
    "plt.legend(fontsize=15)\n",
    "plt.xlabel(list(labels), fontsize=18)\n",
    "plt.ylabel('Log Percentage', fontsize=18)\n",
    "plt.show()"
   ]
  },
  {
   "cell_type": "code",
   "execution_count": 13,
   "metadata": {},
   "outputs": [
    {
     "data": {
      "image/png": "[encoded data removed]",
      "text/plain": [
       "<Figure size 1440x576 with 1 Axes>"
      ]
     },
     "metadata": {},
     "output_type": "display_data"
    }
   ],
   "source": [
    "# Mean comment length for each subgroup\n",
    "\n",
    "labels = train.drop('comment_text', axis=1).columns\n",
    "comment_length = train['comment_text'].apply(lambda x:len(x.split()))\n",
    "comment_length.name = 'comment length' \n",
    "labels_length = pd.concat([comment_length , train.drop('comment_text', axis=1)], \n",
    "                          axis=1)\n",
    "\n",
    "labels_length.groupby(list(labels)).mean().plot(kind='bar', \n",
    "                                                figsize=(20, 8), \n",
    "                                                fontsize=12)\n",
    "plt.show()"
   ]
  },
  {
   "cell_type": "code",
   "execution_count": 14,
   "metadata": {},
   "outputs": [
    {
     "data": {
      "image/png": "[encoded data removed]",
      "text/plain": [
       "<Figure size 1440x576 with 1 Axes>"
      ]
     },
     "metadata": {},
     "output_type": "display_data"
    }
   ],
   "source": [
    "# Comments' sentiments score\n",
    "labels = train.drop('comment_text', axis=1).columns\n",
    "sia = SentimentIntensityAnalyzer()\n",
    "\n",
    "sentiments_train = train['comment_text'].apply(lambda x: sia.polarity_scores(x)\n",
    "                                               ['compound'])\n",
    "sentiments_train.name = 'sentiment score'\n",
    "sentiments_train = pd.concat([\n",
    "    train.drop('comment_text', axis=1), sentiments_train], axis=1)\n",
    "sentiments_train.groupby(list(labels)).mean().plot(kind='bar', \n",
    "                                                   figsize=(20, 8), \n",
    "                                                   fontsize=12)\n",
    "plt.show()"
   ]
  },
  {
   "cell_type": "markdown",
   "metadata": {},
   "source": [
    "# Data Preprocessing"
   ]
  },
  {
   "cell_type": "code",
   "execution_count": 15,
   "metadata": {},
   "outputs": [
    {
     "data": {
      "text/html": [
       "<div>\n",
       "<style scoped>\n",
       "    .dataframe tbody tr th:only-of-type {\n",
       "        vertical-align: middle;\n",
       "    }\n",
       "\n",
       "    .dataframe tbody tr th {\n",
       "        vertical-align: top;\n",
       "    }\n",
       "\n",
       "    .dataframe thead th {\n",
       "        text-align: right;\n",
       "    }\n",
       "</style>\n",
       "<table border=\"1\" class=\"dataframe\">\n",
       "  <thead>\n",
       "    <tr style=\"text-align: right;\">\n",
       "      <th></th>\n",
       "      <th>comment_text</th>\n",
       "      <th>toxic</th>\n",
       "      <th>severe_toxic</th>\n",
       "      <th>obscene</th>\n",
       "      <th>threat</th>\n",
       "      <th>insult</th>\n",
       "      <th>identity_hate</th>\n",
       "      <th>sentiment_score</th>\n",
       "    </tr>\n",
       "  </thead>\n",
       "  <tbody>\n",
       "    <tr>\n",
       "      <th>0</th>\n",
       "      <td>Explanation\\nWhy the edits made under my usern...</td>\n",
       "      <td>0</td>\n",
       "      <td>0</td>\n",
       "      <td>0</td>\n",
       "      <td>0</td>\n",
       "      <td>0</td>\n",
       "      <td>0</td>\n",
       "      <td>0.5574</td>\n",
       "    </tr>\n",
       "    <tr>\n",
       "      <th>1</th>\n",
       "      <td>D'aww! He matches this background colour I'm s...</td>\n",
       "      <td>0</td>\n",
       "      <td>0</td>\n",
       "      <td>0</td>\n",
       "      <td>0</td>\n",
       "      <td>0</td>\n",
       "      <td>0</td>\n",
       "      <td>0.2942</td>\n",
       "    </tr>\n",
       "    <tr>\n",
       "      <th>2</th>\n",
       "      <td>Hey man, I'm really not trying to edit war. It...</td>\n",
       "      <td>0</td>\n",
       "      <td>0</td>\n",
       "      <td>0</td>\n",
       "      <td>0</td>\n",
       "      <td>0</td>\n",
       "      <td>0</td>\n",
       "      <td>-0.1779</td>\n",
       "    </tr>\n",
       "    <tr>\n",
       "      <th>3</th>\n",
       "      <td>\"\\nMore\\nI can't make any real suggestions on ...</td>\n",
       "      <td>0</td>\n",
       "      <td>0</td>\n",
       "      <td>0</td>\n",
       "      <td>0</td>\n",
       "      <td>0</td>\n",
       "      <td>0</td>\n",
       "      <td>0.5106</td>\n",
       "    </tr>\n",
       "    <tr>\n",
       "      <th>4</th>\n",
       "      <td>You, sir, are my hero. Any chance you remember...</td>\n",
       "      <td>0</td>\n",
       "      <td>0</td>\n",
       "      <td>0</td>\n",
       "      <td>0</td>\n",
       "      <td>0</td>\n",
       "      <td>0</td>\n",
       "      <td>0.6808</td>\n",
       "    </tr>\n",
       "  </tbody>\n",
       "</table>\n",
       "</div>"
      ],
      "text/plain": [
       "                                        comment_text  toxic  severe_toxic  \\\n",
       "0  Explanation\\nWhy the edits made under my usern...      0             0   \n",
       "1  D'aww! He matches this background colour I'm s...      0             0   \n",
       "2  Hey man, I'm really not trying to edit war. It...      0             0   \n",
       "3  \"\\nMore\\nI can't make any real suggestions on ...      0             0   \n",
       "4  You, sir, are my hero. Any chance you remember...      0             0   \n",
       "\n",
       "   obscene  threat  insult  identity_hate  sentiment_score  \n",
       "0        0       0       0              0           0.5574  \n",
       "1        0       0       0              0           0.2942  \n",
       "2        0       0       0              0          -0.1779  \n",
       "3        0       0       0              0           0.5106  \n",
       "4        0       0       0              0           0.6808  "
      ]
     },
     "execution_count": 15,
     "metadata": {},
     "output_type": "execute_result"
    }
   ],
   "source": [
    "# add sentiment score as an additional feature\n",
    "train['sentiment_score'] = train['comment_text'].apply(\n",
    "    lambda x: sia.polarity_scores(x)['compound'])\n",
    "test['sentiment_score'] = test['comment_text'].apply(\n",
    "    lambda x: sia.polarity_scores(x)['compound'])\n",
    "train.head()"
   ]
  },
  {
   "cell_type": "code",
   "execution_count": 14,
   "metadata": {},
   "outputs": [
    {
     "name": "stdout",
     "output_type": "stream",
     "text": [
      "scores:\n",
      "[0.918511864973262, 0.9195563168449198, 0.9197443181818182, 0.9185954211229946, 0.9189923128342246, 0.9193056483957219, 0.9196189839572193, 0.9197025401069518, 0.9195354278074866, 0.9195354278074866]\n",
      "losses:\n",
      "[0.01958347259358289, 0.019235321969696968, 0.019499916443850268, 0.019754066399286986, 0.019830659536541888, 0.019642658199643493, 0.019555620543672013, 0.019729695855614973, 0.01970880681818182, 0.01974362188057041]\n"
     ]
    }
   ],
   "source": [
    "# Grid search for the max number of features with TfidfVectorizer\n",
    "\n",
    "TVs = [TfidfVectorizer(max_features=5000*i, ngram_range=(1, 2), \n",
    "                       strip_accents='unicode', lowercase=True, \n",
    "                       stop_words='english') \n",
    "       for i in range(1, 11)]\n",
    "\n",
    "# Target variables: labels\n",
    "Y = train[list(labels)]\n",
    "\n",
    "scores = []\n",
    "losses = []\n",
    "for i in range(len(TVs)):\n",
    "    X = TVs[i].fit_transform(train['comment_text'])\n",
    "    # Train-test split\n",
    "    X_train, X_test, Y_train, Y_test = stratified_split(X, Y, test_size=0.3)\n",
    "    # Training\n",
    "    classifier = ClassifierChain(LogisticRegression(max_iter=5000, \n",
    "                                                    random_state=100))\n",
    "    classifier.fit(X_train, Y_train)\n",
    "    predicted = classifier.predict(X_test)\n",
    "    scores.append(accuracy_score(Y_test, predicted))\n",
    "    losses.append(hamming_loss(Y_test, predicted))\n",
    "\n",
    "print(f'scores:\\n{scores}')\n",
    "print(f'losses:\\n{losses}')"
   ]
  },
  {
   "cell_type": "code",
   "execution_count": 16,
   "metadata": {},
   "outputs": [
    {
     "name": "stdout",
     "output_type": "stream",
     "text": [
      "(159571, 10001) (159571, 6) (63978, 10001) (63978, 6)\n"
     ]
    }
   ],
   "source": [
    "# TfidfVectorizer with max_features=10000\n",
    "tv = TfidfVectorizer(max_features=10000, ngram_range=(1, 2), \n",
    "                     strip_accents='unicode', lowercase=True, \n",
    "                     stop_words='english') \n",
    "\n",
    "# Train set\n",
    "X_train = train.drop(list(labels), axis=1)\n",
    "Y_train = train[list(labels)]\n",
    "transformer = ColumnTransformer([('comment_tf-idf', tv, 'comment_text')],\n",
    "                                remainder='passthrough')\n",
    "X_train = transformer.fit_transform(X_train)\n",
    "\n",
    "# Test set\n",
    "X_test = test.drop(list(labels), axis=1)\n",
    "X_test = transformer.transform(X_test)\n",
    "Y_test = test[list(labels)]\n",
    "\n",
    "print(X_train.shape, Y_train.shape, X_test.shape, Y_test.shape)"
   ]
  },
  {
   "cell_type": "markdown",
   "metadata": {},
   "source": [
    "# Baseline Model"
   ]
  },
  {
   "cell_type": "code",
   "execution_count": 18,
   "metadata": {},
   "outputs": [
    {
     "name": "stdout",
     "output_type": "stream",
     "text": [
      "Classification report for test set\n",
      "               precision    recall  f1-score   support\n",
      "\n",
      "        toxic       0.10      0.10      0.10      6090\n",
      " severe_toxic       0.01      0.01      0.01       367\n",
      "      obscene       0.06      0.05      0.06      3691\n",
      "       threat       0.00      0.00      0.00       211\n",
      "       insult       0.06      0.05      0.06      3427\n",
      "identity_hate       0.02      0.01      0.01       712\n",
      "\n",
      "    micro avg       0.07      0.07      0.07     14498\n",
      "    macro avg       0.04      0.04      0.04     14498\n",
      " weighted avg       0.07      0.07      0.07     14498\n",
      "  samples avg       0.01      0.01      0.01     14498\n",
      "\n",
      "Classification report for train set\n",
      "               precision    recall  f1-score   support\n",
      "\n",
      "        toxic       0.09      0.09      0.09     15294\n",
      " severe_toxic       0.01      0.01      0.01      1595\n",
      "      obscene       0.05      0.05      0.05      8449\n",
      "       threat       0.01      0.01      0.01       478\n",
      "       insult       0.05      0.05      0.05      7877\n",
      "identity_hate       0.01      0.01      0.01      1405\n",
      "\n",
      "    micro avg       0.07      0.07      0.07     35098\n",
      "    macro avg       0.04      0.04      0.04     35098\n",
      " weighted avg       0.07      0.07      0.07     35098\n",
      "  samples avg       0.01      0.01      0.01     35098\n",
      "\n"
     ]
    }
   ],
   "source": [
    "# Define a dummy classifier for comparison\n",
    "BL = DummyClassifier(strategy='stratified', random_state=100)\n",
    "BL.fit(X_train, Y_train)\n",
    "pred_train = BL.predict(X_train)\n",
    "pred_test = BL.predict(X_test)\n",
    "\n",
    "print('Classification report for test set')\n",
    "print(classification_report(Y_test, pred_test, target_names=labels))\n",
    "print('Classification report for train set')\n",
    "print(classification_report(Y_train, pred_train, target_names=labels))"
   ]
  },
  {
   "cell_type": "markdown",
   "metadata": {},
   "source": [
    "# Classification Model Selection\n",
    "## Spot-check algorithms"
   ]
  },
  {
   "cell_type": "code",
   "execution_count": 20,
   "metadata": {},
   "outputs": [
    {
     "name": "stdout",
     "output_type": "stream",
     "text": [
      "Train set:\n",
      "\n",
      "Mean accuracy score: 0.9270544158806349, \n",
      "Mean loss: 0.017211774227665292, \n",
      "Mean F1-score:0.725619895426911\n",
      "\n",
      "Test set:\n",
      "\n",
      "Mean accuracy score: 0.9201296057840995, \n",
      "Mean loss: 0.01916179335635543, \n",
      "Mean F1-score:0.691602798366521\n",
      "CPU times: user 2min 18s, sys: 21.2 s, total: 2min 39s\n",
      "Wall time: 1min 31s\n"
     ]
    }
   ],
   "source": [
    "%%time\n",
    "\n",
    "# 1. Classifier Chains with LogisticRegression\n",
    "cc_lg = ClassifierChain(LogisticRegression(max_iter=1000,\n",
    "                                           random_state=100))\n",
    "evaluate_model(cc_lg, X_train, Y_train, n_folds=3)"
   ]
  },
  {
   "cell_type": "code",
   "execution_count": 21,
   "metadata": {},
   "outputs": [
    {
     "name": "stdout",
     "output_type": "stream",
     "text": [
      "Train set:\n",
      "\n",
      "Mean accuracy score: 0.9981481582804718, \n",
      "Mean loss: 0.0004950777209325755, \n",
      "Mean F1-score:0.9932232935518052\n",
      "\n",
      "Test set:\n",
      "\n",
      "Mean accuracy score: 0.9173847425936894, \n",
      "Mean loss: 0.019481400420400075, \n",
      "Mean F1-score:0.6976210570701776\n",
      "CPU times: user 1h 2min 31s, sys: 58.1 s, total: 1h 3min 29s\n",
      "Wall time: 1h 21min 26s\n"
     ]
    }
   ],
   "source": [
    "%%time\n",
    "\n",
    "# 2. Classifier Chains with RandomForestClassifier\n",
    "cc_rf = ClassifierChain(RandomForestClassifier(random_state=100))\n",
    "evaluate_model(cc_rf, X_train, Y_train, n_folds=3)"
   ]
  },
  {
   "cell_type": "code",
   "execution_count": 22,
   "metadata": {},
   "outputs": [
    {
     "name": "stdout",
     "output_type": "stream",
     "text": [
      "Train set:\n",
      "\n",
      "Mean accuracy score: 0.9270826172593457, \n",
      "Mean loss: 0.017207073457882315, \n",
      "Mean F1-score:0.7260328476893342\n",
      "\n",
      "Test set:\n",
      "\n",
      "Mean accuracy score: 0.9202236000509915, \n",
      "Mean loss: 0.0191973067971106, \n",
      "Mean F1-score:0.6907415896343144\n",
      "CPU times: user 2min 14s, sys: 20.5 s, total: 2min 35s\n",
      "Wall time: 1min 34s\n"
     ]
    }
   ],
   "source": [
    "%%time\n",
    "\n",
    "# 3. Classifier Chains with LGBMClassifier\n",
    "cc_lgbm = ClassifierChain(LGBMClassifier(random_state=100))\n",
    "evaluate_model(cc_lg, X_train, Y_train, n_folds=3)"
   ]
  },
  {
   "cell_type": "markdown",
   "metadata": {},
   "source": [
    "## Model Tuning and Evaluation"
   ]
  },
  {
   "cell_type": "code",
   "execution_count": 23,
   "metadata": {},
   "outputs": [
    {
     "name": "stdout",
     "output_type": "stream",
     "text": [
      "ROC AUC Score: 0.9650979744680116\n",
      "\n",
      "\n",
      "Classification Report\n",
      "               precision    recall  f1-score   support\n",
      "\n",
      "        toxic       0.63      0.72      0.67      6090\n",
      " severe_toxic       0.38      0.28      0.32       367\n",
      "      obscene       0.68      0.68      0.68      3691\n",
      "       threat       0.38      0.23      0.29       211\n",
      "       insult       0.60      0.61      0.60      3427\n",
      "identity_hate       0.70      0.29      0.41       712\n",
      "\n",
      "    micro avg       0.63      0.64      0.64     14498\n",
      "    macro avg       0.56      0.47      0.50     14498\n",
      " weighted avg       0.63      0.64      0.63     14498\n",
      "  samples avg       0.06      0.06      0.06     14498\n",
      "\n"
     ]
    }
   ],
   "source": [
    "# 1. LogisticRegression\n",
    "lg = ClassifierChain(LogisticRegression(max_iter=1000, random_state=100))\n",
    "lg.fit(X_train, Y_train)\n",
    "predicted = lg.predict(X_test)\n",
    "\n",
    "print(f'ROC AUC Score: {roc_auc_score(Y_test, lg.predict_proba(X_test))}\\n\\n')\n",
    "print(f'Classification Report\\n'\n",
    "      f'{classification_report(Y_test, predicted, target_names=labels)}')"
   ]
  },
  {
   "cell_type": "code",
   "execution_count": 24,
   "metadata": {},
   "outputs": [
    {
     "name": "stdout",
     "output_type": "stream",
     "text": [
      "ROC AUC Score: 0.9645882542504243\n",
      "\n",
      "\n",
      "Classification Report\n",
      "               precision    recall  f1-score   support\n",
      "\n",
      "        toxic       0.40      0.91      0.56      6090\n",
      " severe_toxic       0.07      0.96      0.12       367\n",
      "      obscene       0.29      0.94      0.44      3691\n",
      "       threat       0.08      0.89      0.15       211\n",
      "       insult       0.25      0.94      0.39      3427\n",
      "identity_hate       0.06      0.94      0.12       712\n",
      "\n",
      "    micro avg       0.24      0.93      0.38     14498\n",
      "    macro avg       0.19      0.93      0.30     14498\n",
      " weighted avg       0.31      0.93      0.45     14498\n",
      "  samples avg       0.05      0.09      0.06     14498\n",
      "\n"
     ]
    }
   ],
   "source": [
    "# 2. LogisticRegression with balanced class weights\n",
    "lg_balanced = ClassifierChain(LogisticRegression(max_iter=1000, \n",
    "                                                 random_state=100,\n",
    "                                                 class_weight='balanced'))\n",
    "lg_balanced.fit(X_train, Y_train)\n",
    "predicted = lg_balanced.predict(X_test)\n",
    "\n",
    "print(f'ROC AUC Score: {roc_auc_score(Y_test, lg_balanced.predict_proba(X_test))}\\n\\n')\n",
    "print(f'Classification Report\\n'\n",
    "      f'{classification_report(Y_test, predicted, target_names=labels)}')"
   ]
  },
  {
   "cell_type": "code",
   "execution_count": 25,
   "metadata": {},
   "outputs": [
    {
     "name": "stdout",
     "output_type": "stream",
     "text": [
      "ROC AUC Score: 0.9236790933056626\n",
      "\n",
      "\n",
      "Classification Report\n",
      "               precision    recall  f1-score   support\n",
      "\n",
      "        toxic       0.62      0.71      0.66      6090\n",
      " severe_toxic       0.31      0.33      0.32       367\n",
      "      obscene       0.63      0.68      0.66      3691\n",
      "       threat       0.23      0.33      0.27       211\n",
      "       insult       0.55      0.61      0.58      3427\n",
      "identity_hate       0.63      0.37      0.46       712\n",
      "\n",
      "    micro avg       0.59      0.65      0.62     14498\n",
      "    macro avg       0.50      0.50      0.49     14498\n",
      " weighted avg       0.59      0.65      0.62     14498\n",
      "  samples avg       0.06      0.06      0.06     14498\n",
      "\n"
     ]
    }
   ],
   "source": [
    "# 3. LGBMClassifier with default params\n",
    "lgbm = ClassifierChain(LGBMClassifier(num_leaves=31, random_state=100))\n",
    "lgbm.fit(X_train, Y_train)\n",
    "predicted = lgbm.predict(X_test)\n",
    "\n",
    "print(f'ROC AUC Score: {roc_auc_score(Y_test, lgbm.predict_proba(X_test))}\\n\\n')\n",
    "print(f'Classification Report\\n'\n",
    "      f'{classification_report(Y_test, predicted, target_names=labels)}')"
   ]
  },
  {
   "cell_type": "code",
   "execution_count": 26,
   "metadata": {},
   "outputs": [
    {
     "name": "stdout",
     "output_type": "stream",
     "text": [
      "ROC AUC Score: 0.9495514115805284\n",
      "\n",
      "\n",
      "Classification Report\n",
      "               precision    recall  f1-score   support\n",
      "\n",
      "        toxic       0.61      0.73      0.66      6090\n",
      " severe_toxic       0.36      0.37      0.36       367\n",
      "      obscene       0.63      0.69      0.66      3691\n",
      "       threat       0.48      0.39      0.43       211\n",
      "       insult       0.56      0.62      0.59      3427\n",
      "identity_hate       0.67      0.37      0.48       712\n",
      "\n",
      "    micro avg       0.60      0.66      0.63     14498\n",
      "    macro avg       0.55      0.53      0.53     14498\n",
      " weighted avg       0.60      0.66      0.62     14498\n",
      "  samples avg       0.06      0.06      0.06     14498\n",
      "\n"
     ]
    }
   ],
   "source": [
    "# 4.  LGBMClassifier with tuned parameters\n",
    "lgbm_tuned = ClassifierChain(LGBMClassifier(num_leaves=40, reg_lambda=0.2, \n",
    "                                            random_state=100))\n",
    "lgbm_tuned.fit(X_train, Y_train)\n",
    "predicted = lgbm_tuned.predict(X_test)\n",
    "\n",
    "print(f'ROC AUC Score: {roc_auc_score(Y_test, lgbm_tuned.predict_proba(X_test))}\\n\\n')\n",
    "print(f'Classification Report\\n'\n",
    "      f'{classification_report(Y_test, predicted, target_names=labels)}')"
   ]
  },
  {
   "cell_type": "code",
   "execution_count": 27,
   "metadata": {},
   "outputs": [
    {
     "data": {
      "text/html": [
       "<style type=\"text/css\">\n",
       "</style>\n",
       "<table id=\"T_cc336_\">\n",
       "  <thead>\n",
       "    <tr>\n",
       "      <th class=\"blank level0\" >&nbsp;</th>\n",
       "      <th class=\"col_heading level0 col0\" >TN</th>\n",
       "      <th class=\"col_heading level0 col1\" >FP</th>\n",
       "      <th class=\"col_heading level0 col2\" >FN</th>\n",
       "      <th class=\"col_heading level0 col3\" >TP</th>\n",
       "    </tr>\n",
       "  </thead>\n",
       "  <tbody>\n",
       "    <tr>\n",
       "      <th id=\"T_cc336_level0_row0\" class=\"row_heading level0 row0\" >toxic</th>\n",
       "      <td id=\"T_cc336_row0_col0\" class=\"data row0 col0\" >86.5</td>\n",
       "      <td id=\"T_cc336_row0_col1\" class=\"data row0 col1\" >4.0</td>\n",
       "      <td id=\"T_cc336_row0_col2\" class=\"data row0 col2\" >2.7</td>\n",
       "      <td id=\"T_cc336_row0_col3\" class=\"data row0 col3\" >6.9</td>\n",
       "    </tr>\n",
       "    <tr>\n",
       "      <th id=\"T_cc336_level0_row1\" class=\"row_heading level0 row1\" >severe_toxic</th>\n",
       "      <td id=\"T_cc336_row1_col0\" class=\"data row1 col0\" >99.2</td>\n",
       "      <td id=\"T_cc336_row1_col1\" class=\"data row1 col1\" >0.3</td>\n",
       "      <td id=\"T_cc336_row1_col2\" class=\"data row1 col2\" >0.4</td>\n",
       "      <td id=\"T_cc336_row1_col3\" class=\"data row1 col3\" >0.2</td>\n",
       "    </tr>\n",
       "    <tr>\n",
       "      <th id=\"T_cc336_level0_row2\" class=\"row_heading level0 row2\" >obscene</th>\n",
       "      <td id=\"T_cc336_row2_col0\" class=\"data row2 col0\" >92.4</td>\n",
       "      <td id=\"T_cc336_row2_col1\" class=\"data row2 col1\" >1.8</td>\n",
       "      <td id=\"T_cc336_row2_col2\" class=\"data row2 col2\" >1.9</td>\n",
       "      <td id=\"T_cc336_row2_col3\" class=\"data row2 col3\" >3.9</td>\n",
       "    </tr>\n",
       "    <tr>\n",
       "      <th id=\"T_cc336_level0_row3\" class=\"row_heading level0 row3\" >threat</th>\n",
       "      <td id=\"T_cc336_row3_col0\" class=\"data row3 col0\" >99.5</td>\n",
       "      <td id=\"T_cc336_row3_col1\" class=\"data row3 col1\" >0.1</td>\n",
       "      <td id=\"T_cc336_row3_col2\" class=\"data row3 col2\" >0.3</td>\n",
       "      <td id=\"T_cc336_row3_col3\" class=\"data row3 col3\" >0.1</td>\n",
       "    </tr>\n",
       "    <tr>\n",
       "      <th id=\"T_cc336_level0_row4\" class=\"row_heading level0 row4\" >insult</th>\n",
       "      <td id=\"T_cc336_row4_col0\" class=\"data row4 col0\" >92.4</td>\n",
       "      <td id=\"T_cc336_row4_col1\" class=\"data row4 col1\" >2.2</td>\n",
       "      <td id=\"T_cc336_row4_col2\" class=\"data row4 col2\" >2.1</td>\n",
       "      <td id=\"T_cc336_row4_col3\" class=\"data row4 col3\" >3.3</td>\n",
       "    </tr>\n",
       "    <tr>\n",
       "      <th id=\"T_cc336_level0_row5\" class=\"row_heading level0 row5\" >identity_hate</th>\n",
       "      <td id=\"T_cc336_row5_col0\" class=\"data row5 col0\" >98.7</td>\n",
       "      <td id=\"T_cc336_row5_col1\" class=\"data row5 col1\" >0.1</td>\n",
       "      <td id=\"T_cc336_row5_col2\" class=\"data row5 col2\" >0.8</td>\n",
       "      <td id=\"T_cc336_row5_col3\" class=\"data row5 col3\" >0.3</td>\n",
       "    </tr>\n",
       "  </tbody>\n",
       "</table>\n"
      ],
      "text/plain": [
       "<pandas.io.formats.style.Styler at 0x7fcf9bfd1410>"
      ]
     },
     "execution_count": 27,
     "metadata": {},
     "output_type": "execute_result"
    }
   ],
   "source": [
    "confusion_matrix_df(lg, X_test, Y_test)"
   ]
  },
  {
   "cell_type": "code",
   "execution_count": 28,
   "metadata": {},
   "outputs": [
    {
     "data": {
      "text/html": [
       "<style type=\"text/css\">\n",
       "</style>\n",
       "<table id=\"T_6bf9a_\">\n",
       "  <thead>\n",
       "    <tr>\n",
       "      <th class=\"blank level0\" >&nbsp;</th>\n",
       "      <th class=\"col_heading level0 col0\" >TN</th>\n",
       "      <th class=\"col_heading level0 col1\" >FP</th>\n",
       "      <th class=\"col_heading level0 col2\" >FN</th>\n",
       "      <th class=\"col_heading level0 col3\" >TP</th>\n",
       "    </tr>\n",
       "  </thead>\n",
       "  <tbody>\n",
       "    <tr>\n",
       "      <th id=\"T_6bf9a_level0_row0\" class=\"row_heading level0 row0\" >toxic</th>\n",
       "      <td id=\"T_6bf9a_row0_col0\" class=\"data row0 col0\" >77.7</td>\n",
       "      <td id=\"T_6bf9a_row0_col1\" class=\"data row0 col1\" >12.8</td>\n",
       "      <td id=\"T_6bf9a_row0_col2\" class=\"data row0 col2\" >0.8</td>\n",
       "      <td id=\"T_6bf9a_row0_col3\" class=\"data row0 col3\" >8.7</td>\n",
       "    </tr>\n",
       "    <tr>\n",
       "      <th id=\"T_6bf9a_level0_row1\" class=\"row_heading level0 row1\" >severe_toxic</th>\n",
       "      <td id=\"T_6bf9a_row1_col0\" class=\"data row1 col0\" >91.6</td>\n",
       "      <td id=\"T_6bf9a_row1_col1\" class=\"data row1 col1\" >7.8</td>\n",
       "      <td id=\"T_6bf9a_row1_col2\" class=\"data row1 col2\" >0.0</td>\n",
       "      <td id=\"T_6bf9a_row1_col3\" class=\"data row1 col3\" >0.5</td>\n",
       "    </tr>\n",
       "    <tr>\n",
       "      <th id=\"T_6bf9a_level0_row2\" class=\"row_heading level0 row2\" >obscene</th>\n",
       "      <td id=\"T_6bf9a_row2_col0\" class=\"data row2 col0\" >80.7</td>\n",
       "      <td id=\"T_6bf9a_row2_col1\" class=\"data row2 col1\" >13.5</td>\n",
       "      <td id=\"T_6bf9a_row2_col2\" class=\"data row2 col2\" >0.3</td>\n",
       "      <td id=\"T_6bf9a_row2_col3\" class=\"data row2 col3\" >5.4</td>\n",
       "    </tr>\n",
       "    <tr>\n",
       "      <th id=\"T_6bf9a_level0_row3\" class=\"row_heading level0 row3\" >threat</th>\n",
       "      <td id=\"T_6bf9a_row3_col0\" class=\"data row3 col0\" >96.4</td>\n",
       "      <td id=\"T_6bf9a_row3_col1\" class=\"data row3 col1\" >3.3</td>\n",
       "      <td id=\"T_6bf9a_row3_col2\" class=\"data row3 col2\" >0.0</td>\n",
       "      <td id=\"T_6bf9a_row3_col3\" class=\"data row3 col3\" >0.3</td>\n",
       "    </tr>\n",
       "    <tr>\n",
       "      <th id=\"T_6bf9a_level0_row4\" class=\"row_heading level0 row4\" >insult</th>\n",
       "      <td id=\"T_6bf9a_row4_col0\" class=\"data row4 col0\" >79.2</td>\n",
       "      <td id=\"T_6bf9a_row4_col1\" class=\"data row4 col1\" >15.4</td>\n",
       "      <td id=\"T_6bf9a_row4_col2\" class=\"data row4 col2\" >0.3</td>\n",
       "      <td id=\"T_6bf9a_row4_col3\" class=\"data row4 col3\" >5.1</td>\n",
       "    </tr>\n",
       "    <tr>\n",
       "      <th id=\"T_6bf9a_level0_row5\" class=\"row_heading level0 row5\" >identity_hate</th>\n",
       "      <td id=\"T_6bf9a_row5_col0\" class=\"data row5 col0\" >83.5</td>\n",
       "      <td id=\"T_6bf9a_row5_col1\" class=\"data row5 col1\" >15.4</td>\n",
       "      <td id=\"T_6bf9a_row5_col2\" class=\"data row5 col2\" >0.1</td>\n",
       "      <td id=\"T_6bf9a_row5_col3\" class=\"data row5 col3\" >1.1</td>\n",
       "    </tr>\n",
       "  </tbody>\n",
       "</table>\n"
      ],
      "text/plain": [
       "<pandas.io.formats.style.Styler at 0x7fcfb7dcf810>"
      ]
     },
     "execution_count": 28,
     "metadata": {},
     "output_type": "execute_result"
    }
   ],
   "source": [
    "confusion_matrix_df(lg_balanced, X_test, Y_test)"
   ]
  },
  {
   "cell_type": "code",
   "execution_count": 29,
   "metadata": {},
   "outputs": [
    {
     "data": {
      "text/html": [
       "<style type=\"text/css\">\n",
       "</style>\n",
       "<table id=\"T_ed651_\">\n",
       "  <thead>\n",
       "    <tr>\n",
       "      <th class=\"blank level0\" >&nbsp;</th>\n",
       "      <th class=\"col_heading level0 col0\" >TN</th>\n",
       "      <th class=\"col_heading level0 col1\" >FP</th>\n",
       "      <th class=\"col_heading level0 col2\" >FN</th>\n",
       "      <th class=\"col_heading level0 col3\" >TP</th>\n",
       "    </tr>\n",
       "  </thead>\n",
       "  <tbody>\n",
       "    <tr>\n",
       "      <th id=\"T_ed651_level0_row0\" class=\"row_heading level0 row0\" >toxic</th>\n",
       "      <td id=\"T_ed651_row0_col0\" class=\"data row0 col0\" >86.3</td>\n",
       "      <td id=\"T_ed651_row0_col1\" class=\"data row0 col1\" >4.2</td>\n",
       "      <td id=\"T_ed651_row0_col2\" class=\"data row0 col2\" >2.8</td>\n",
       "      <td id=\"T_ed651_row0_col3\" class=\"data row0 col3\" >6.7</td>\n",
       "    </tr>\n",
       "    <tr>\n",
       "      <th id=\"T_ed651_level0_row1\" class=\"row_heading level0 row1\" >severe_toxic</th>\n",
       "      <td id=\"T_ed651_row1_col0\" class=\"data row1 col0\" >99.0</td>\n",
       "      <td id=\"T_ed651_row1_col1\" class=\"data row1 col1\" >0.4</td>\n",
       "      <td id=\"T_ed651_row1_col2\" class=\"data row1 col2\" >0.4</td>\n",
       "      <td id=\"T_ed651_row1_col3\" class=\"data row1 col3\" >0.2</td>\n",
       "    </tr>\n",
       "    <tr>\n",
       "      <th id=\"T_ed651_level0_row2\" class=\"row_heading level0 row2\" >obscene</th>\n",
       "      <td id=\"T_ed651_row2_col0\" class=\"data row2 col0\" >91.9</td>\n",
       "      <td id=\"T_ed651_row2_col1\" class=\"data row2 col1\" >2.3</td>\n",
       "      <td id=\"T_ed651_row2_col2\" class=\"data row2 col2\" >1.8</td>\n",
       "      <td id=\"T_ed651_row2_col3\" class=\"data row2 col3\" >3.9</td>\n",
       "    </tr>\n",
       "    <tr>\n",
       "      <th id=\"T_ed651_level0_row3\" class=\"row_heading level0 row3\" >threat</th>\n",
       "      <td id=\"T_ed651_row3_col0\" class=\"data row3 col0\" >99.3</td>\n",
       "      <td id=\"T_ed651_row3_col1\" class=\"data row3 col1\" >0.4</td>\n",
       "      <td id=\"T_ed651_row3_col2\" class=\"data row3 col2\" >0.2</td>\n",
       "      <td id=\"T_ed651_row3_col3\" class=\"data row3 col3\" >0.1</td>\n",
       "    </tr>\n",
       "    <tr>\n",
       "      <th id=\"T_ed651_level0_row4\" class=\"row_heading level0 row4\" >insult</th>\n",
       "      <td id=\"T_ed651_row4_col0\" class=\"data row4 col0\" >91.9</td>\n",
       "      <td id=\"T_ed651_row4_col1\" class=\"data row4 col1\" >2.7</td>\n",
       "      <td id=\"T_ed651_row4_col2\" class=\"data row4 col2\" >2.1</td>\n",
       "      <td id=\"T_ed651_row4_col3\" class=\"data row4 col3\" >3.3</td>\n",
       "    </tr>\n",
       "    <tr>\n",
       "      <th id=\"T_ed651_level0_row5\" class=\"row_heading level0 row5\" >identity_hate</th>\n",
       "      <td id=\"T_ed651_row5_col0\" class=\"data row5 col0\" >98.6</td>\n",
       "      <td id=\"T_ed651_row5_col1\" class=\"data row5 col1\" >0.2</td>\n",
       "      <td id=\"T_ed651_row5_col2\" class=\"data row5 col2\" >0.7</td>\n",
       "      <td id=\"T_ed651_row5_col3\" class=\"data row5 col3\" >0.4</td>\n",
       "    </tr>\n",
       "  </tbody>\n",
       "</table>\n"
      ],
      "text/plain": [
       "<pandas.io.formats.style.Styler at 0x7fcfa8975a50>"
      ]
     },
     "execution_count": 29,
     "metadata": {},
     "output_type": "execute_result"
    }
   ],
   "source": [
    "confusion_matrix_df(lgbm, X_test, Y_test)"
   ]
  }
 ],
 "metadata": {
  "interpreter": {
   "hash": "4e63be51ad6858dc03e3e9e368e91465e9fcd209f1d25885e200622923c955e2"
  },
  "kernelspec": {
   "display_name": "Python 3 (ipykernel)",
   "language": "python",
   "name": "python3"
  },
  "language_info": {
   "codemirror_mode": {
    "name": "ipython",
    "version": 3
   },
   "file_extension": ".py",
   "mimetype": "text/x-python",
   "name": "python",
   "nbconvert_exporter": "python",
   "pygments_lexer": "ipython3",
   "version": "3.7.11"
  }
 },
 "nbformat": 4,
 "nbformat_minor": 2
}
